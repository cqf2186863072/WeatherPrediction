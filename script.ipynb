{
 "cells": [
  {
   "cell_type": "markdown",
   "metadata": {},
   "source": [
    "## 数据预处理\n",
    "\n",
    "### 数据缺失情况\n",
    "\n",
    "1. ff3(两次观测之间10到12米高度处的最大阵风): 3/4缺失\n",
    "2. N(总云量): 1/5缺失\n",
    "   - 补“无云”\n",
    "3. WW(气象站报告的当前天气状况): 1/2缺失\n",
    "   - 补“无法观测”\n",
    "4. Tn/Tx(过去12小时内的最低/高温度): 大部分仅记录下/上午2时的数据\n",
    "   - 线性插值\n",
    "5. Nh(观测到的C1云层的数量): 1/4缺失\n",
    "    - 补0\n",
    "6. H(最低云层底部的高度): 1/2缺失\n",
    "   - 补“无云”\n",
    "7. Cl/Cm/Ch(层积云、雨层云和积雨云/高层云、高积云和高雨云/卷云、卷积云和卷层云): 3/4缺失\n",
    "8. RRR/tR(降雨量/达到指定降雨量的时间): 大量缺失\n",
    "    - 补0"
   ]
  },
  {
   "cell_type": "code",
   "execution_count": 12,
   "metadata": {},
   "outputs": [
    {
     "name": "stdout",
     "output_type": "stream",
     "text": [
      "Time Stamp        0\n",
      "T                 3\n",
      "Po              242\n",
      "P               235\n",
      "Pa            13735\n",
      "U                 5\n",
      "DD                0\n",
      "Ff                0\n",
      "ff10          40774\n",
      "ff3           32882\n",
      "N              8391\n",
      "WW                0\n",
      "W             26432\n",
      "Tn            26703\n",
      "Tx            27371\n",
      "Cl            33023\n",
      "Nh            20900\n",
      "H             11298\n",
      "Cm            32665\n",
      "Ch            34002\n",
      "VV             1115\n",
      "Td                2\n",
      "tR            26710\n",
      "RRR           26710\n",
      "dtype: int64\n"
     ]
    }
   ],
   "source": [
    "import pandas as pd\n",
    "\n",
    "# 删除不需要的特征\n",
    "filename = 'training_datasets/training_dataset.csv'\n",
    "output_filename = 'training_datasets/training_dataset_0.csv'\n",
    "features = ['Time Stamp', 'T', 'Po', 'P', 'Pa', 'U', 'DD', 'Ff', 'ff10', 'ff3', 'N', 'WW', 'W', 'Tn', 'Tx', 'Cl', 'Nh', 'H', 'Cm', 'Ch', 'VV', 'Td', 'tR', 'RRR']# 需要的特征\n",
    "\n",
    "df = pd.read_csv(filename, delimiter=',', encoding='gb18030', low_memory=False)\n",
    "df = df[features]\n",
    "\n",
    "df.to_csv(output_filename)\n",
    "print(df.isnull().sum())\n"
   ]
  },
  {
   "cell_type": "code",
   "execution_count": 14,
   "metadata": {},
   "outputs": [
    {
     "name": "stdout",
     "output_type": "stream",
     "text": [
      "Time Stamp        0\n",
      "T                 0\n",
      "Po                0\n",
      "P                 0\n",
      "Pa            13473\n",
      "U                 0\n",
      "DD                0\n",
      "Ff                0\n",
      "N              8389\n",
      "WW                0\n",
      "W             25576\n",
      "Nh            20082\n",
      "H             10853\n",
      "VV                0\n",
      "Td                0\n",
      "tR            25506\n",
      "RRR           25506\n",
      "dtype: int64\n"
     ]
    }
   ],
   "source": [
    "df.drop(['ff10'], axis=1, inplace=True)# 没有数据，直接删除特征\n",
    "df.drop(['Tn', 'Tx'], axis=1, inplace=True)# 可以补值，暂时删除特征，以观察其余特征数据完整性\n",
    "df.drop(['ff3', 'Cl', 'Cm', 'Ch'], axis=1, inplace=True)# 数据缺失过多，考虑删除特征\n",
    "\n",
    "df.dropna(subset=['T', 'Po', 'P', 'U', 'VV', 'Td'], inplace=True)# 少量缺失，直接删除对应数据\n",
    "\n",
    "df.reset_index(drop=True, inplace=True)\n",
    "print(df.isnull().sum())"
   ]
  },
  {
   "cell_type": "code",
   "execution_count": 15,
   "metadata": {},
   "outputs": [
    {
     "name": "stdout",
     "output_type": "stream",
     "text": [
      "Time Stamp        0\n",
      "T                 0\n",
      "Po                0\n",
      "P                 0\n",
      "Pa            13473\n",
      "U                 0\n",
      "DD                0\n",
      "Ff                0\n",
      "N              8389\n",
      "WW                0\n",
      "W             25576\n",
      "Nh                0\n",
      "H                 0\n",
      "VV                0\n",
      "Td                0\n",
      "tR                0\n",
      "RRR               0\n",
      "dtype: int64\n"
     ]
    }
   ],
   "source": [
    "df['WW'].fillna('云量发展情况没有进行观测或无法观测。 ', inplace=True)\n",
    "df['Nh'].fillna('0', inplace=True)\n",
    "df['H'].fillna('2500或更高，或无云。', inplace=True)\n",
    "df['RRR'].fillna('无降水', inplace=True)\n",
    "df['tR'].fillna('0', inplace=True)\n",
    "\n",
    "print(df.isnull().sum())"
   ]
  },
  {
   "cell_type": "code",
   "execution_count": 16,
   "metadata": {},
   "outputs": [
    {
     "name": "stdout",
     "output_type": "stream",
     "text": [
      "4964\n"
     ]
    }
   ],
   "source": [
    "df_complete = df.dropna()\n",
    "print(df_complete.shape[0])"
   ]
  }
 ],
 "metadata": {
  "kernelspec": {
   "display_name": "Python 3",
   "language": "python",
   "name": "python3"
  },
  "language_info": {
   "codemirror_mode": {
    "name": "ipython",
    "version": 3
   },
   "file_extension": ".py",
   "mimetype": "text/x-python",
   "name": "python",
   "nbconvert_exporter": "python",
   "pygments_lexer": "ipython3",
   "version": "3.10.11"
  }
 },
 "nbformat": 4,
 "nbformat_minor": 2
}
