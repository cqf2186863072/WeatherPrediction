{
 "cells": [
  {
   "cell_type": "code",
   "execution_count": 9,
   "metadata": {},
   "outputs": [
    {
     "name": "stdout",
     "output_type": "stream",
     "text": [
      "Time Stamp        0\n",
      "T                 3\n",
      "Po              242\n",
      "P               235\n",
      "Pa            13735\n",
      "U                 5\n",
      "DD                0\n",
      "Ff                0\n",
      "ff10          40774\n",
      "ff3           32882\n",
      "N              8391\n",
      "WW                0\n",
      "W             26432\n",
      "Tn            26703\n",
      "Tx            27371\n",
      "Cl            33023\n",
      "Nh            20900\n",
      "H             11298\n",
      "Cm            32665\n",
      "Ch            34002\n",
      "VV             1115\n",
      "Td                2\n",
      "tR            26710\n",
      "RRR           26710\n",
      "dtype: int64\n"
     ]
    }
   ],
   "source": [
    "import pandas as pd\n",
    "\n",
    "filename = 'training_datasets/training_dataset.csv'\n",
    "\n",
    "\n",
    "features = ['Time Stamp', 'T', 'Po', 'P', 'Pa', 'U', 'DD', 'Ff', 'ff10', 'ff3', 'N', 'WW', 'W', 'Tn', 'Tx', 'Cl', 'Nh', 'H', 'Cm', 'Ch', 'VV', 'Td', 'tR', 'RRR']# 文档中要求的特征\n",
    "\n",
    "# 保留文档中要求的特征\n",
    "df = pd.read_csv(filename, delimiter=',', encoding='gb18030', low_memory=False)\n",
    "df = df[features]\n",
    "\n",
    "output_filename = 'training_datasets/training_dataset_0.csv'# 原始数据集\n",
    "df.to_csv(output_filename)\n",
    "\n",
    "print(df.isnull().sum())"
   ]
  },
  {
   "cell_type": "code",
   "execution_count": 13,
   "metadata": {},
   "outputs": [
    {
     "name": "stdout",
     "output_type": "stream",
     "text": [
      "0.1\n"
     ]
    }
   ],
   "source": [
    "df1 = df\n",
    "df1['RRR'] = pd.to_numeric(df1['RRR'], errors='coerce')\n",
    "rrr_values = df1['RRR'].loc[~df1['RRR'].isnull()].to_numpy()\n",
    "print(rrr_values.min())"
   ]
  },
  {
   "cell_type": "code",
   "execution_count": 2,
   "metadata": {},
   "outputs": [
    {
     "name": "stdout",
     "output_type": "stream",
     "text": [
      "Time Stamp        0\n",
      "T                 0\n",
      "Po                0\n",
      "P                 0\n",
      "Pa            13473\n",
      "U                 0\n",
      "DD                0\n",
      "Ff                0\n",
      "N              8389\n",
      "WW                0\n",
      "W             25576\n",
      "Tn            25417\n",
      "Tx            26217\n",
      "Nh            20082\n",
      "H             10853\n",
      "VV                0\n",
      "Td                0\n",
      "tR            25506\n",
      "RRR           25506\n",
      "dtype: int64\n"
     ]
    }
   ],
   "source": [
    "# 确定的处理\n",
    "df.drop(['ff10'], axis=1, inplace=True)# 没有数据，直接删除特征\n",
    "df.dropna(subset=['T', 'Po', 'P', 'U', 'VV', 'Td'], inplace=True)# 少量缺失，直接删除对应数据\n",
    "\n",
    "# 不确定的处理\n",
    "df.drop(['ff3', 'Cl', 'Cm', 'Ch'], axis=1, inplace=True)# 数据缺失过多，考虑删除特征\n",
    "\n",
    "df.reset_index(drop=True, inplace=True)\n",
    "print(df.isnull().sum())"
   ]
  },
  {
   "cell_type": "code",
   "execution_count": 3,
   "metadata": {},
   "outputs": [
    {
     "name": "stdout",
     "output_type": "stream",
     "text": [
      "Time Stamp        0\n",
      "T                 0\n",
      "Po                0\n",
      "P                 0\n",
      "Pa                0\n",
      "U                 0\n",
      "DD                0\n",
      "Ff                0\n",
      "N                 0\n",
      "WW                0\n",
      "W             25576\n",
      "Tn                0\n",
      "Tx                0\n",
      "Nh                0\n",
      "H                 0\n",
      "VV                0\n",
      "Td                0\n",
      "tR                0\n",
      "RRR               0\n",
      "dtype: int64\n",
      "13835\n"
     ]
    }
   ],
   "source": [
    "# 补\"0\"\n",
    "df['N'].fillna('无云', inplace=True)\n",
    "df['WW'].fillna('云量发展情况没有进行观测或无法观测。 ', inplace=True)\n",
    "df['Nh'].fillna('0', inplace=True)\n",
    "df['H'].fillna('2500或更高，或无云。', inplace=True)\n",
    "df['RRR'].fillna('无降水', inplace=True)\n",
    "df['tR'].fillna('0', inplace=True)\n",
    "\n",
    "\n",
    "# 线性插值\n",
    "df['Pa'].interpolate(method='linear', inplace=True)\n",
    "df['Tn'].interpolate(method='linear', inplace=True)\n",
    "df['Tx'].interpolate(method='linear', inplace=True)\n",
    "\n",
    "print(df.isnull().sum())\n",
    "df_complete = df.dropna()\n",
    "print(df_complete.shape[0])\n",
    "\n",
    "output_filename_1 = 'training_datasets/training_dataset_1.csv'\n",
    "df.to_csv(output_filename_1)\n"
   ]
  },
  {
   "cell_type": "code",
   "execution_count": 7,
   "metadata": {},
   "outputs": [],
   "source": [
    "df1 = df.drop(['Time Stamp', 'DD', 'WW', 'W', 'H', 'N', 'Nh'], axis=1, inplace=False)\n",
    "df['VV'].replace('低于 0.1', 0, inplace=True)\n",
    "df1['RRR'].replace('无降水', -1, inplace=True)\n",
    "df1['RRR'].replace('降水迹象', 0, inplace=True)"
   ]
  },
  {
   "cell_type": "code",
   "execution_count": 8,
   "metadata": {},
   "outputs": [
    {
     "name": "stdout",
     "output_type": "stream",
     "text": [
      "T      0.049321\n",
      "Po    -0.150688\n",
      "P     -0.151695\n",
      "Pa     0.028532\n",
      "U      0.245651\n",
      "Ff     0.059737\n",
      "Tn     0.099555\n",
      "Tx     0.056244\n",
      "VV    -0.083120\n",
      "Td     0.141937\n",
      "tR     0.252274\n",
      "RRR    1.000000\n",
      "Name: RRR, dtype: float64\n"
     ]
    }
   ],
   "source": [
    "corr = df1.corr(method='pearson', numeric_only=False)['RRR']\n",
    "print(corr)"
   ]
  }
 ],
 "metadata": {
  "kernelspec": {
   "display_name": "Python 3",
   "language": "python",
   "name": "python3"
  },
  "language_info": {
   "codemirror_mode": {
    "name": "ipython",
    "version": 3
   },
   "file_extension": ".py",
   "mimetype": "text/x-python",
   "name": "python",
   "nbconvert_exporter": "python",
   "pygments_lexer": "ipython3",
   "version": "3.10.11"
  }
 },
 "nbformat": 4,
 "nbformat_minor": 2
}
